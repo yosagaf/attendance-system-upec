{
 "cells": [
  {
   "cell_type": "code",
   "execution_count": 79,
   "metadata": {},
   "outputs": [
    {
     "name": "stdout",
     "output_type": "stream",
     "text": [
      "ligne_data = []\n",
      "name does n't existe\n",
      "Done\n",
      "[]\n"
     ]
    }
   ],
   "source": [
    "def mark_attendance(attendance):\n",
    "    with open(\"attendance.csv\", 'r+') as f:\n",
    "        if attendance: \n",
    "            next(f)\n",
    "            tmp_data = []\n",
    "            name_list = []\n",
    "            ligne_data = []\n",
    "            data = f.read()\n",
    "            for l in data:\n",
    "                ligne_data = data.split(\"\\n\")\n",
    "\n",
    "            print(\"ligne_data =\", ligne_data)\n",
    "            for i in ligne_data:\n",
    "                #print(i)\n",
    "                tmp_data.append(i)\n",
    "\n",
    "            #print(tmp_data)\n",
    "\n",
    "            for j in tmp_data:\n",
    "                ligne_row = j.split(\",\")\n",
    "                #print(ligne_row)\n",
    "                name_list.append(ligne_row[1])\n",
    "            #print(name_list)\n",
    "\n",
    "            name = attendance[1]\n",
    "            #if name not in name_list:\n",
    "                #name_list.append(ligne_row[1])\n",
    "            if name in name_list:\n",
    "                pass\n",
    "            else:\n",
    "                print(\"name does n't existe\")\n",
    "                f.writelines(f'\\n{attendance[0]},{attendance[1]},{attendance[2]}')\n",
    "\n",
    "attendance = [\"55506\", \"Sagafou\",\"13:12:34\"]   \n",
    "mark_attendance(attendance)"
   ]
  },
  {
   "cell_type": "code",
   "execution_count": null,
   "metadata": {},
   "outputs": [],
   "source": []
  },
  {
   "cell_type": "code",
   "execution_count": null,
   "metadata": {},
   "outputs": [],
   "source": []
  }
 ],
 "metadata": {
  "kernelspec": {
   "display_name": "Python 3",
   "language": "python",
   "name": "python3"
  },
  "language_info": {
   "codemirror_mode": {
    "name": "ipython",
    "version": 3
   },
   "file_extension": ".py",
   "mimetype": "text/x-python",
   "name": "python",
   "nbconvert_exporter": "python",
   "pygments_lexer": "ipython3",
   "version": "3.6.9"
  }
 },
 "nbformat": 4,
 "nbformat_minor": 4
}
